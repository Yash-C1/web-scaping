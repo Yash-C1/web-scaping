{
 "cells": [
  {
   "cell_type": "code",
   "execution_count": 1,
   "metadata": {},
   "outputs": [],
   "source": [
    "import pandas as pd\n",
    "import numpy as np\n",
    "from bs4 import BeautifulSoup"
   ]
  },
  {
   "cell_type": "code",
   "execution_count": 2,
   "metadata": {},
   "outputs": [],
   "source": [
    "import requests\n"
   ]
  },
  {
   "cell_type": "code",
   "execution_count": null,
   "metadata": {},
   "outputs": [],
   "source": []
  },
  {
   "cell_type": "code",
   "execution_count": 14,
   "metadata": {},
   "outputs": [
    {
     "name": "stdout",
     "output_type": "stream",
     "text": [
      "0\n",
      "1\n",
      "2\n"
     ]
    }
   ],
   "source": [
    "import main\n",
    "object = main.Scraper()\n",
    "\n",
    "def get_data_using_id(file_name, start_id, end_id):\n",
    "    all_ids = list(pd.read_csv(\"{}\".format(file_name)).iloc[:,0])\n",
    "    required_ids = all_ids[start_id : end_id]\n",
    "    #print(required_ids)\n",
    "    filename = \"{}-{}-data.csv\".format(start_id, end_id)\n",
    "\n",
    "    for i in range(len(required_ids)):\n",
    "        print(i)\n",
    "        if(len(str(required_ids[i])) != 8):\n",
    "            s = \"\"\n",
    "            for j in range(8-len(str(required_ids[i]))):\n",
    "                s+=\"0\"\n",
    "            s+=str(required_ids[i])\n",
    "            url = \"https://www.pagesjaunes.fr/pros/\" + s\n",
    "            object.extract_details('{}'.format(url))\n",
    "        \n",
    "        else:\n",
    "            url = \"https://www.pagesjaunes.fr/pros/{}\".format(required_ids[i])\n",
    "            object.extract_details('{}'.format(url))\n",
    "            \n",
    "    \n",
    "    #print(object.scraped_data[0])\n",
    "    column = [\"url\", \"id\", \"nom_societe\", \"adresse\", \"code_postal\", \"ville\", \"rubrique\", \"siret\", \"dernire_modif\", \"tva_intra\", \"principaux_dirigeants\", \"rating\", 'review', \"telephone\", 'mobile', \"fax\", \"website\", \"activities\", 'prestations', \"produits\", \"description\", \"horaires\", \"budget\", \"tarif_nuit\", \"cuisine\", \"ambiance\", \"formules\", \"nom_du_chef\", \"references_et_guides\", \"moyens_de_paiement\", \"nbre_etoile_hotel\", \"nbre_chambres\", \"marque\", \"capacite_accueil\", \"info_pratique\", \"services_loisirs\", \"clientele\"]\n",
    "            \n",
    "    df=pd.DataFrame(object.scraped_data,columns=column)\n",
    "    #df.to_csv(filename,index=False)  # If excel file of output data is required.\n",
    "    return df\n",
    "    \n",
    "            \n",
    "df = get_data_using_id('pj_index_list_NEW.csv',0,3)"
   ]
  },
  {
   "cell_type": "code",
   "execution_count": 12,
   "metadata": {},
   "outputs": [
    {
     "data": {
      "text/html": [
       "<div>\n",
       "<style scoped>\n",
       "    .dataframe tbody tr th:only-of-type {\n",
       "        vertical-align: middle;\n",
       "    }\n",
       "\n",
       "    .dataframe tbody tr th {\n",
       "        vertical-align: top;\n",
       "    }\n",
       "\n",
       "    .dataframe thead th {\n",
       "        text-align: right;\n",
       "    }\n",
       "</style>\n",
       "<table border=\"1\" class=\"dataframe\">\n",
       "  <thead>\n",
       "    <tr style=\"text-align: right;\">\n",
       "      <th></th>\n",
       "      <th>url</th>\n",
       "      <th>id</th>\n",
       "      <th>nom_societe</th>\n",
       "      <th>adresse</th>\n",
       "      <th>code_postal</th>\n",
       "      <th>ville</th>\n",
       "      <th>rubrique</th>\n",
       "      <th>siret</th>\n",
       "      <th>dernire_modif</th>\n",
       "      <th>tva_intra</th>\n",
       "      <th>...</th>\n",
       "      <th>nom_du_chef</th>\n",
       "      <th>references_et_guides</th>\n",
       "      <th>moyens_de_paiement</th>\n",
       "      <th>nbre_etoile_hotel</th>\n",
       "      <th>nbre_chambres</th>\n",
       "      <th>marque</th>\n",
       "      <th>capacite_accueil</th>\n",
       "      <th>info_pratique</th>\n",
       "      <th>services_loisirs</th>\n",
       "      <th>clientele</th>\n",
       "    </tr>\n",
       "  </thead>\n",
       "  <tbody>\n",
       "    <tr>\n",
       "      <td>0</td>\n",
       "      <td>https://www.pagesjaunes.fr/pros/00000022</td>\n",
       "      <td>00000022</td>\n",
       "      <td>Pharmacie Des Moulins</td>\n",
       "      <td>Centre Commercial Moulins Liots 70 av Prés Geo...</td>\n",
       "      <td>85200</td>\n",
       "      <td>FONTENAY LE COMTE</td>\n",
       "      <td></td>\n",
       "      <td>52276482800011</td>\n",
       "      <td>Il y a 2 heures</td>\n",
       "      <td></td>\n",
       "      <td>...</td>\n",
       "      <td></td>\n",
       "      <td></td>\n",
       "      <td>Mastercard|Visa|Espèces|CB|American Express|Ch...</td>\n",
       "      <td></td>\n",
       "      <td></td>\n",
       "      <td></td>\n",
       "      <td></td>\n",
       "      <td></td>\n",
       "      <td></td>\n",
       "      <td></td>\n",
       "    </tr>\n",
       "    <tr>\n",
       "      <td>1</td>\n",
       "      <td>https://www.pagesjaunes.fr/pros/00000037</td>\n",
       "      <td>00000037</td>\n",
       "      <td>Pharmacie Chapard</td>\n",
       "      <td>36 r Gambetta</td>\n",
       "      <td>24000</td>\n",
       "      <td>PÉRIGUEUX</td>\n",
       "      <td></td>\n",
       "      <td>90056938500017</td>\n",
       "      <td>Il y a 4 heures</td>\n",
       "      <td></td>\n",
       "      <td>...</td>\n",
       "      <td></td>\n",
       "      <td></td>\n",
       "      <td>Mastercard|Visa|Espèces|CB|American Express|Ch...</td>\n",
       "      <td></td>\n",
       "      <td></td>\n",
       "      <td></td>\n",
       "      <td></td>\n",
       "      <td></td>\n",
       "      <td></td>\n",
       "      <td></td>\n",
       "    </tr>\n",
       "    <tr>\n",
       "      <td>2</td>\n",
       "      <td>https://www.pagesjaunes.fr/pros/00000055</td>\n",
       "      <td>00000055</td>\n",
       "      <td>CIC</td>\n",
       "      <td>13 r Eglise</td>\n",
       "      <td>85500</td>\n",
       "      <td>LES HERBIERS</td>\n",
       "      <td></td>\n",
       "      <td>85580107202011</td>\n",
       "      <td></td>\n",
       "      <td></td>\n",
       "      <td>...</td>\n",
       "      <td></td>\n",
       "      <td></td>\n",
       "      <td></td>\n",
       "      <td></td>\n",
       "      <td></td>\n",
       "      <td>CIC</td>\n",
       "      <td></td>\n",
       "      <td></td>\n",
       "      <td></td>\n",
       "      <td></td>\n",
       "    </tr>\n",
       "  </tbody>\n",
       "</table>\n",
       "<p>3 rows × 37 columns</p>\n",
       "</div>"
      ],
      "text/plain": [
       "                                        url        id            nom_societe  \\\n",
       "0  https://www.pagesjaunes.fr/pros/00000022  00000022  Pharmacie Des Moulins   \n",
       "1  https://www.pagesjaunes.fr/pros/00000037  00000037      Pharmacie Chapard   \n",
       "2  https://www.pagesjaunes.fr/pros/00000055  00000055                    CIC   \n",
       "\n",
       "                                             adresse code_postal  \\\n",
       "0  Centre Commercial Moulins Liots 70 av Prés Geo...       85200   \n",
       "1                                      36 r Gambetta       24000   \n",
       "2                                        13 r Eglise       85500   \n",
       "\n",
       "               ville rubrique           siret    dernire_modif tva_intra  ...  \\\n",
       "0  FONTENAY LE COMTE           52276482800011  Il y a 2 heures            ...   \n",
       "1          PÉRIGUEUX           90056938500017  Il y a 4 heures            ...   \n",
       "2       LES HERBIERS           85580107202011                             ...   \n",
       "\n",
       "  nom_du_chef references_et_guides  \\\n",
       "0                                    \n",
       "1                                    \n",
       "2                                    \n",
       "\n",
       "                                  moyens_de_paiement nbre_etoile_hotel  \\\n",
       "0  Mastercard|Visa|Espèces|CB|American Express|Ch...                     \n",
       "1  Mastercard|Visa|Espèces|CB|American Express|Ch...                     \n",
       "2                                                                        \n",
       "\n",
       "  nbre_chambres marque capacite_accueil info_pratique services_loisirs  \\\n",
       "0                                                                        \n",
       "1                                                                        \n",
       "2                  CIC                                                   \n",
       "\n",
       "  clientele  \n",
       "0            \n",
       "1            \n",
       "2            \n",
       "\n",
       "[3 rows x 37 columns]"
      ]
     },
     "execution_count": 12,
     "metadata": {},
     "output_type": "execute_result"
    }
   ],
   "source": [
    "df"
   ]
  },
  {
   "cell_type": "code",
   "execution_count": 10,
   "metadata": {},
   "outputs": [
    {
     "data": {
      "text/plain": [
       "2"
      ]
     },
     "execution_count": 10,
     "metadata": {},
     "output_type": "execute_result"
    }
   ],
   "source": [
    "df.shape[0]\n",
    "    "
   ]
  }
 ],
 "metadata": {
  "kernelspec": {
   "display_name": "Python 3",
   "language": "python",
   "name": "python3"
  },
  "language_info": {
   "codemirror_mode": {
    "name": "ipython",
    "version": 3
   },
   "file_extension": ".py",
   "mimetype": "text/x-python",
   "name": "python",
   "nbconvert_exporter": "python",
   "pygments_lexer": "ipython3",
   "version": "3.7.4"
  }
 },
 "nbformat": 4,
 "nbformat_minor": 2
}
